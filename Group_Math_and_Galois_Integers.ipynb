{
  "nbformat": 4,
  "nbformat_minor": 0,
  "metadata": {
    "colab": {
      "provenance": [],
      "gpuType": "T4",
      "include_colab_link": true
    },
    "kernelspec": {
      "name": "python3",
      "display_name": "Python 3"
    },
    "language_info": {
      "name": "python"
    },
    "accelerator": "GPU"
  },
  "cells": [
    {
      "cell_type": "markdown",
      "metadata": {
        "id": "view-in-github",
        "colab_type": "text"
      },
      "source": [
        "<a href=\"https://colab.research.google.com/github/bches/group_math/blob/main/Group_Math_and_Galois_Integers.ipynb\" target=\"_parent\"><img src=\"https://colab.research.google.com/assets/colab-badge.svg\" alt=\"Open In Colab\"/></a>"
      ]
    },
    {
      "cell_type": "markdown",
      "source": [
        "# Introduction\n",
        "This notebook compares the output of the [group_math](http://www.kharasso.com/group/) project with that of the galois project for the [integer examples on the galois website](https://galois.readthedocs.io/en/v0.3.3/tutorials/intro-to-prime-fields/).\n",
        "\n",
        "\n"
      ],
      "metadata": {
        "id": "Ii9rVT0fw_Va"
      }
    },
    {
      "cell_type": "code",
      "execution_count": 1,
      "metadata": {
        "colab": {
          "base_uri": "https://localhost:8080/"
        },
        "id": "mgv6Czl9w5a9",
        "outputId": "46514fe5-5226-4201-cdb6-cada4b4ddcbc"
      },
      "outputs": [
        {
          "output_type": "stream",
          "name": "stdout",
          "text": [
            "Looking in indexes: https://pypi.org/simple, https://us-python.pkg.dev/colab-wheels/public/simple/\n",
            "Collecting galois\n",
            "  Downloading galois-0.3.5-py3-none-any.whl (4.2 MB)\n",
            "\u001b[2K     \u001b[90m━━━━━━━━━━━━━━━━━━━━━━━━━━━━━━━━━━━━━━━━\u001b[0m \u001b[32m4.2/4.2 MB\u001b[0m \u001b[31m53.7 MB/s\u001b[0m eta \u001b[36m0:00:00\u001b[0m\n",
            "\u001b[?25hRequirement already satisfied: numpy<1.25,>=1.21.0 in /usr/local/lib/python3.10/dist-packages (from galois) (1.22.4)\n",
            "Requirement already satisfied: numba<0.58,>=0.55 in /usr/local/lib/python3.10/dist-packages (from galois) (0.56.4)\n",
            "Requirement already satisfied: typing-extensions>=4.0.0 in /usr/local/lib/python3.10/dist-packages (from galois) (4.5.0)\n",
            "Requirement already satisfied: llvmlite<0.40,>=0.39.0dev0 in /usr/local/lib/python3.10/dist-packages (from numba<0.58,>=0.55->galois) (0.39.1)\n",
            "Requirement already satisfied: setuptools in /usr/local/lib/python3.10/dist-packages (from numba<0.58,>=0.55->galois) (67.7.2)\n",
            "Installing collected packages: galois\n",
            "Successfully installed galois-0.3.5\n"
          ]
        }
      ],
      "source": [
        "!pip install galois\n",
        "import galois\n",
        "from random import randint\n",
        "from itertools import permutations"
      ]
    },
    {
      "cell_type": "code",
      "source": [
        "GF7 = galois.GF(7)\n",
        "print(GF7.properties)\n",
        "print(GF7.elements)"
      ],
      "metadata": {
        "colab": {
          "base_uri": "https://localhost:8080/"
        },
        "id": "CogNryxuyzCF",
        "outputId": "d0291e39-15eb-4a66-d93a-1fb1e40bbaf5"
      },
      "execution_count": 2,
      "outputs": [
        {
          "output_type": "stream",
          "name": "stdout",
          "text": [
            "Galois Field:\n",
            "  name: GF(7)\n",
            "  characteristic: 7\n",
            "  degree: 1\n",
            "  order: 7\n",
            "  irreducible_poly: x + 4\n",
            "  is_primitive_poly: True\n",
            "  primitive_element: 3\n",
            "[0 1 2 3 4 5 6]\n"
          ]
        }
      ]
    },
    {
      "cell_type": "code",
      "source": [
        "from google.colab import drive\n",
        "drive.mount('/content/drive')\n",
        "\n",
        "# if its already cloned, then pull the latest:\n",
        "%cd /content/drive/MyDrive/projects/group_math/\n",
        "!git pull origin main\n",
        "\n",
        "# otherwise, clone it:\n",
        "#%cd /content/drive/MyDrive/projects/\n",
        "#!git clone https://github.com/bches/group_math.git\n"
      ],
      "metadata": {
        "colab": {
          "base_uri": "https://localhost:8080/"
        },
        "id": "gASTsTTAy-lj",
        "outputId": "bfc850bb-c65f-4546-d361-dac6bf048683"
      },
      "execution_count": 3,
      "outputs": [
        {
          "output_type": "stream",
          "name": "stdout",
          "text": [
            "Mounted at /content/drive\n",
            "/content/drive/MyDrive/projects/group_math\n",
            "From https://github.com/bches/group_math\n",
            " * branch            main       -> FETCH_HEAD\n",
            "Already up to date.\n"
          ]
        }
      ]
    },
    {
      "cell_type": "code",
      "source": [
        "%cd /content/drive/MyDrive/projects/group_math/src/\n",
        "from groups import group, incremental_set, additive_group, multiplicative_group\n"
      ],
      "metadata": {
        "colab": {
          "base_uri": "https://localhost:8080/"
        },
        "id": "xmVnmtgE2bhx",
        "outputId": "2aafd235-292b-4893-be8e-f27018a04bf9"
      },
      "execution_count": 4,
      "outputs": [
        {
          "output_type": "stream",
          "name": "stdout",
          "text": [
            "/content/drive/MyDrive/projects/group_math/src\n"
          ]
        }
      ]
    },
    {
      "cell_type": "markdown",
      "source": [
        "# Simple Test\n",
        "3 + 5 modulo 7"
      ],
      "metadata": {
        "id": "srV46-md2viv"
      }
    },
    {
      "cell_type": "code",
      "source": [
        "a = GF7(3)\n",
        "b = GF7(5)\n",
        "print('a+b=',a+b)\n",
        "\n",
        "add_grp = additive_group(incremental_set(0,6))\n",
        "print('add_grp=', add_grp)\n",
        "print()\n",
        "print('a+b=', add_grp.synthesize(3,5))\n"
      ],
      "metadata": {
        "colab": {
          "base_uri": "https://localhost:8080/"
        },
        "id": "SYTBmp5r21pI",
        "outputId": "cf149fde-ebd2-4670-eb8c-6e35338f5435"
      },
      "execution_count": 5,
      "outputs": [
        {
          "output_type": "stream",
          "name": "stdout",
          "text": [
            "a+b= 1\n",
            "add_grp= <Instance of additive_group at addr 140119894533376:\n",
            "\tidentity = 0,\n",
            "\tmembers = array('i', [0, 1, 2, 3, 4, 5, 6]),\n",
            "\tinverse = array('i', [0, 6, 5, 4, 3, 2, 1]),\n",
            "\tsubop = <Instance of incremental_set at addr 140119894536448:\n",
            "\tindex = 0,\n",
            "\tmembers = array('i', [0, 1, 2, 3, 4, 5, 6])>,\n",
            "\tisBijective: True>\n",
            "\n",
            "\n",
            "a+b= 1\n"
          ]
        }
      ]
    },
    {
      "cell_type": "markdown",
      "source": [
        "# Integer Addition over GF7"
      ],
      "metadata": {
        "id": "wMkqU-uRIWiD"
      }
    },
    {
      "cell_type": "code",
      "source": [
        "for x, y in permutations(range(7), 2):\n",
        "  result1 = GF7(x) + GF7(y)\n",
        "  result2 = add_grp.synthesize(x,y)\n",
        "  passed = result1 == result2\n",
        "  print('%s + %s = %s = %s (%s)' % (x,y,result1,result2, passed))"
      ],
      "metadata": {
        "colab": {
          "base_uri": "https://localhost:8080/"
        },
        "id": "96HrKj9HIcGe",
        "outputId": "22433619-f1bc-464a-e220-5d42a6e984c4"
      },
      "execution_count": 6,
      "outputs": [
        {
          "output_type": "stream",
          "name": "stdout",
          "text": [
            "0 + 1 = 1 = 1 (True)\n",
            "0 + 2 = 2 = 2 (True)\n",
            "0 + 3 = 3 = 3 (True)\n",
            "0 + 4 = 4 = 4 (True)\n",
            "0 + 5 = 5 = 5 (True)\n",
            "0 + 6 = 6 = 6 (True)\n",
            "1 + 0 = 1 = 1 (True)\n",
            "1 + 2 = 3 = 3 (True)\n",
            "1 + 3 = 4 = 4 (True)\n",
            "1 + 4 = 5 = 5 (True)\n",
            "1 + 5 = 6 = 6 (True)\n",
            "1 + 6 = 0 = 0 (True)\n",
            "2 + 0 = 2 = 2 (True)\n",
            "2 + 1 = 3 = 3 (True)\n",
            "2 + 3 = 5 = 5 (True)\n",
            "2 + 4 = 6 = 6 (True)\n",
            "2 + 5 = 0 = 0 (True)\n",
            "2 + 6 = 1 = 1 (True)\n",
            "3 + 0 = 3 = 3 (True)\n",
            "3 + 1 = 4 = 4 (True)\n",
            "3 + 2 = 5 = 5 (True)\n",
            "3 + 4 = 0 = 0 (True)\n",
            "3 + 5 = 1 = 1 (True)\n",
            "3 + 6 = 2 = 2 (True)\n",
            "4 + 0 = 4 = 4 (True)\n",
            "4 + 1 = 5 = 5 (True)\n",
            "4 + 2 = 6 = 6 (True)\n",
            "4 + 3 = 0 = 0 (True)\n",
            "4 + 5 = 2 = 2 (True)\n",
            "4 + 6 = 3 = 3 (True)\n",
            "5 + 0 = 5 = 5 (True)\n",
            "5 + 1 = 6 = 6 (True)\n",
            "5 + 2 = 0 = 0 (True)\n",
            "5 + 3 = 1 = 1 (True)\n",
            "5 + 4 = 2 = 2 (True)\n",
            "5 + 6 = 4 = 4 (True)\n",
            "6 + 0 = 6 = 6 (True)\n",
            "6 + 1 = 0 = 0 (True)\n",
            "6 + 2 = 1 = 1 (True)\n",
            "6 + 3 = 2 = 2 (True)\n",
            "6 + 4 = 3 = 3 (True)\n",
            "6 + 5 = 4 = 4 (True)\n"
          ]
        }
      ]
    },
    {
      "cell_type": "markdown",
      "source": [
        "# Integer Subtraction over GF7"
      ],
      "metadata": {
        "id": "nRQ4A1rXKUNc"
      }
    },
    {
      "cell_type": "code",
      "source": [
        "for x, y in permutations(range(7), 2):\n",
        "  result1 = GF7(x) - GF7(y)\n",
        "  result2 = add_grp.synthesize(x,add_grp.invert(y))\n",
        "  passed = result1 == result2\n",
        "  print('%s - %s = %s = %s (%s)' % (x,y,result1,result2, passed))"
      ],
      "metadata": {
        "colab": {
          "base_uri": "https://localhost:8080/"
        },
        "id": "udcD2ql5KYGw",
        "outputId": "783426bf-09b4-4740-d231-cb21dc69b9cf"
      },
      "execution_count": 7,
      "outputs": [
        {
          "output_type": "stream",
          "name": "stdout",
          "text": [
            "0 - 1 = 6 = 6 (True)\n",
            "0 - 2 = 5 = 5 (True)\n",
            "0 - 3 = 4 = 4 (True)\n",
            "0 - 4 = 3 = 3 (True)\n",
            "0 - 5 = 2 = 2 (True)\n",
            "0 - 6 = 1 = 1 (True)\n",
            "1 - 0 = 1 = 1 (True)\n",
            "1 - 2 = 6 = 6 (True)\n",
            "1 - 3 = 5 = 5 (True)\n",
            "1 - 4 = 4 = 4 (True)\n",
            "1 - 5 = 3 = 3 (True)\n",
            "1 - 6 = 2 = 2 (True)\n",
            "2 - 0 = 2 = 2 (True)\n",
            "2 - 1 = 1 = 1 (True)\n",
            "2 - 3 = 6 = 6 (True)\n",
            "2 - 4 = 5 = 5 (True)\n",
            "2 - 5 = 4 = 4 (True)\n",
            "2 - 6 = 3 = 3 (True)\n",
            "3 - 0 = 3 = 3 (True)\n",
            "3 - 1 = 2 = 2 (True)\n",
            "3 - 2 = 1 = 1 (True)\n",
            "3 - 4 = 6 = 6 (True)\n",
            "3 - 5 = 5 = 5 (True)\n",
            "3 - 6 = 4 = 4 (True)\n",
            "4 - 0 = 4 = 4 (True)\n",
            "4 - 1 = 3 = 3 (True)\n",
            "4 - 2 = 2 = 2 (True)\n",
            "4 - 3 = 1 = 1 (True)\n",
            "4 - 5 = 6 = 6 (True)\n",
            "4 - 6 = 5 = 5 (True)\n",
            "5 - 0 = 5 = 5 (True)\n",
            "5 - 1 = 4 = 4 (True)\n",
            "5 - 2 = 3 = 3 (True)\n",
            "5 - 3 = 2 = 2 (True)\n",
            "5 - 4 = 1 = 1 (True)\n",
            "5 - 6 = 6 = 6 (True)\n",
            "6 - 0 = 6 = 6 (True)\n",
            "6 - 1 = 5 = 5 (True)\n",
            "6 - 2 = 4 = 4 (True)\n",
            "6 - 3 = 3 = 3 (True)\n",
            "6 - 4 = 2 = 2 (True)\n",
            "6 - 5 = 1 = 1 (True)\n"
          ]
        }
      ]
    },
    {
      "cell_type": "markdown",
      "source": [
        "# Integer Multiplication over GF7"
      ],
      "metadata": {
        "id": "w4AS46uAKqfb"
      }
    },
    {
      "cell_type": "code",
      "source": [
        "mul_grp = multiplicative_group(add_grp)\n",
        "\n",
        "for x, y in permutations(range(7), 2):\n",
        "  result1 = GF7(x) * GF7(y)\n",
        "  result2 = mul_grp.synthesize(x,y)\n",
        "  passed = result1 == result2\n",
        "  print('%s * %s = %s = %s (%s)' % (x,y,result1,result2, passed))"
      ],
      "metadata": {
        "colab": {
          "base_uri": "https://localhost:8080/"
        },
        "id": "HO6U6ZT0Ky2g",
        "outputId": "4b101e1e-af0a-497d-a062-6afd77091760"
      },
      "execution_count": 8,
      "outputs": [
        {
          "output_type": "stream",
          "name": "stdout",
          "text": [
            "0 * 1 = 0 = 0 (True)\n",
            "0 * 2 = 0 = 0 (True)\n",
            "0 * 3 = 0 = 0 (True)\n",
            "0 * 4 = 0 = 0 (True)\n",
            "0 * 5 = 0 = 0 (True)\n",
            "0 * 6 = 0 = 0 (True)\n",
            "1 * 0 = 0 = 0 (True)\n",
            "1 * 2 = 2 = 2 (True)\n",
            "1 * 3 = 3 = 3 (True)\n",
            "1 * 4 = 4 = 4 (True)\n",
            "1 * 5 = 5 = 5 (True)\n",
            "1 * 6 = 6 = 6 (True)\n",
            "2 * 0 = 0 = 0 (True)\n",
            "2 * 1 = 2 = 2 (True)\n",
            "2 * 3 = 6 = 6 (True)\n",
            "2 * 4 = 1 = 1 (True)\n",
            "2 * 5 = 3 = 3 (True)\n",
            "2 * 6 = 5 = 5 (True)\n",
            "3 * 0 = 0 = 0 (True)\n",
            "3 * 1 = 3 = 3 (True)\n",
            "3 * 2 = 6 = 6 (True)\n",
            "3 * 4 = 5 = 5 (True)\n",
            "3 * 5 = 1 = 1 (True)\n",
            "3 * 6 = 4 = 4 (True)\n",
            "4 * 0 = 0 = 0 (True)\n",
            "4 * 1 = 4 = 4 (True)\n",
            "4 * 2 = 1 = 1 (True)\n",
            "4 * 3 = 5 = 5 (True)\n",
            "4 * 5 = 6 = 6 (True)\n",
            "4 * 6 = 3 = 3 (True)\n",
            "5 * 0 = 0 = 0 (True)\n",
            "5 * 1 = 5 = 5 (True)\n",
            "5 * 2 = 3 = 3 (True)\n",
            "5 * 3 = 1 = 1 (True)\n",
            "5 * 4 = 6 = 6 (True)\n",
            "5 * 6 = 2 = 2 (True)\n",
            "6 * 0 = 0 = 0 (True)\n",
            "6 * 1 = 6 = 6 (True)\n",
            "6 * 2 = 5 = 5 (True)\n",
            "6 * 3 = 4 = 4 (True)\n",
            "6 * 4 = 3 = 3 (True)\n",
            "6 * 5 = 2 = 2 (True)\n"
          ]
        }
      ]
    },
    {
      "cell_type": "markdown",
      "source": [
        "# Integer Division in GF7"
      ],
      "metadata": {
        "id": "ftAL8GbCLwz4"
      }
    },
    {
      "cell_type": "code",
      "source": [
        "for x, y in permutations(range(7), 2):\n",
        "  if y == 0:\n",
        "    continue\n",
        "  result1 = GF7(x) / GF7(y)\n",
        "  result2 = mul_grp.synthesize(x,mul_grp.invert(y))\n",
        "  passed = result1 == result2\n",
        "  print('%s / %s = %s = %s (%s)' % (x,y,result1,result2, passed))"
      ],
      "metadata": {
        "colab": {
          "base_uri": "https://localhost:8080/"
        },
        "id": "Orw1TSeoL3dZ",
        "outputId": "cdb4901a-aa15-42c2-aec9-c80e3b32c74a"
      },
      "execution_count": 9,
      "outputs": [
        {
          "output_type": "stream",
          "name": "stdout",
          "text": [
            "0 / 1 = 0 = 0 (True)\n",
            "0 / 2 = 0 = 0 (True)\n",
            "0 / 3 = 0 = 0 (True)\n",
            "0 / 4 = 0 = 0 (True)\n",
            "0 / 5 = 0 = 0 (True)\n",
            "0 / 6 = 0 = 0 (True)\n",
            "1 / 2 = 4 = 4 (True)\n",
            "1 / 3 = 5 = 5 (True)\n",
            "1 / 4 = 2 = 2 (True)\n",
            "1 / 5 = 3 = 3 (True)\n",
            "1 / 6 = 6 = 6 (True)\n",
            "2 / 1 = 2 = 2 (True)\n",
            "2 / 3 = 3 = 3 (True)\n",
            "2 / 4 = 4 = 4 (True)\n",
            "2 / 5 = 6 = 6 (True)\n",
            "2 / 6 = 5 = 5 (True)\n",
            "3 / 1 = 3 = 3 (True)\n",
            "3 / 2 = 5 = 5 (True)\n",
            "3 / 4 = 6 = 6 (True)\n",
            "3 / 5 = 2 = 2 (True)\n",
            "3 / 6 = 4 = 4 (True)\n",
            "4 / 1 = 4 = 4 (True)\n",
            "4 / 2 = 2 = 2 (True)\n",
            "4 / 3 = 6 = 6 (True)\n",
            "4 / 5 = 5 = 5 (True)\n",
            "4 / 6 = 3 = 3 (True)\n",
            "5 / 1 = 5 = 5 (True)\n",
            "5 / 2 = 6 = 6 (True)\n",
            "5 / 3 = 4 = 4 (True)\n",
            "5 / 4 = 3 = 3 (True)\n",
            "5 / 6 = 2 = 2 (True)\n",
            "6 / 1 = 6 = 6 (True)\n",
            "6 / 2 = 3 = 3 (True)\n",
            "6 / 3 = 2 = 2 (True)\n",
            "6 / 4 = 5 = 5 (True)\n",
            "6 / 5 = 4 = 4 (True)\n"
          ]
        }
      ]
    },
    {
      "cell_type": "markdown",
      "source": [
        "# Integer Exponentiation on GF"
      ],
      "metadata": {
        "id": "-qGoPtX2L8cB"
      }
    },
    {
      "cell_type": "code",
      "source": [
        "  for x, y in permutations(range(7), 2):\n",
        "    if x == 1 or x == 0:\n",
        "      continue\n",
        "    result1 = GF7(x) ** y\n",
        "    mul_grp.reset(x)\n",
        "    result2 = mul_grp(y)\n",
        "    passed = result1 == result2\n",
        "    print('%s ** %s = %s = %s (%s)' % (x,y,result1,result2, passed))"
      ],
      "metadata": {
        "colab": {
          "base_uri": "https://localhost:8080/"
        },
        "id": "Dj7U_C_AMCHL",
        "outputId": "f45f479a-ff13-43fd-c0ca-ee6e3c5ff786"
      },
      "execution_count": 10,
      "outputs": [
        {
          "output_type": "stream",
          "name": "stdout",
          "text": [
            "2 ** 0 = 1 = 1 (True)\n",
            "2 ** 1 = 2 = 2 (True)\n",
            "2 ** 3 = 1 = 1 (True)\n",
            "2 ** 4 = 2 = 2 (True)\n",
            "2 ** 5 = 4 = 4 (True)\n",
            "2 ** 6 = 1 = 1 (True)\n",
            "3 ** 0 = 1 = 1 (True)\n",
            "3 ** 1 = 3 = 3 (True)\n",
            "3 ** 2 = 2 = 2 (True)\n",
            "3 ** 4 = 4 = 4 (True)\n",
            "3 ** 5 = 5 = 5 (True)\n",
            "3 ** 6 = 1 = 1 (True)\n",
            "4 ** 0 = 1 = 1 (True)\n",
            "4 ** 1 = 4 = 4 (True)\n",
            "4 ** 2 = 2 = 2 (True)\n",
            "4 ** 3 = 1 = 1 (True)\n",
            "4 ** 5 = 2 = 2 (True)\n",
            "4 ** 6 = 1 = 1 (True)\n",
            "5 ** 0 = 1 = 1 (True)\n",
            "5 ** 1 = 5 = 5 (True)\n",
            "5 ** 2 = 4 = 4 (True)\n",
            "5 ** 3 = 6 = 6 (True)\n",
            "5 ** 4 = 2 = 2 (True)\n",
            "5 ** 6 = 1 = 1 (True)\n",
            "6 ** 0 = 1 = 1 (True)\n",
            "6 ** 1 = 6 = 6 (True)\n",
            "6 ** 2 = 1 = 1 (True)\n",
            "6 ** 3 = 6 = 6 (True)\n",
            "6 ** 4 = 1 = 1 (True)\n",
            "6 ** 5 = 6 = 6 (True)\n"
          ]
        }
      ]
    },
    {
      "cell_type": "markdown",
      "source": [
        "# Timing"
      ],
      "metadata": {
        "id": "Xv9Y8frUexOd"
      }
    },
    {
      "cell_type": "code",
      "source": [
        "N=257\n",
        "print('Addition (N=%d)' % N)\n",
        "\n",
        "a = randint(0,N-1)\n",
        "b = randint(0,N-1)\n",
        "\n",
        "dut = galois.GF(N)\n",
        "print('Device Under Test:', dut)\n",
        "%timeit a + b\n",
        "print()\n",
        "\n",
        "dut = additive_group(incremental_set(0,N-1))\n",
        "print('Device Under Test:', dut)\n",
        "%timeit dut.synthesize(a,b)"
      ],
      "metadata": {
        "id": "NkkiBjw_ex-X",
        "outputId": "7fe43323-c4e1-4a55-9d17-e265e05ae5ee",
        "colab": {
          "base_uri": "https://localhost:8080/"
        }
      },
      "execution_count": 11,
      "outputs": [
        {
          "output_type": "stream",
          "name": "stdout",
          "text": [
            "Addition (N=257)\n",
            "Device Under Test: <class 'galois.GF(257)'>\n",
            "43.2 ns ± 0.97 ns per loop (mean ± std. dev. of 7 runs, 10000000 loops each)\n",
            "\n",
            "Device Under Test: <Instance of additive_group at addr 140119896401920:\n",
            "\tidentity = 0,\n",
            "\tmembers = array('i', [0, 1, 2, 3, 4, 5, 6, 7, 8, 9, 10, 11, 12, 13, 14, 15, 16, 17, 18, 19, 20, 21, 22, 23, 24, 25, 26, 27, 28, 29, 30, 31, 32, 33, 34, 35, 36, 37, 38, 39, 40, 41, 42, 43, 44, 45, 46, 47, 48, 49, 50, 51, 52, 53, 54, 55, 56, 57, 58, 59, 60, 61, 62, 63, 64, 65, 66, 67, 68, 69, 70, 71, 72, 73, 74, 75, 76, 77, 78, 79, 80, 81, 82, 83, 84, 85, 86, 87, 88, 89, 90, 91, 92, 93, 94, 95, 96, 97, 98, 99, 100, 101, 102, 103, 104, 105, 106, 107, 108, 109, 110, 111, 112, 113, 114, 115, 116, 117, 118, 119, 120, 121, 122, 123, 124, 125, 126, 127, 128, 129, 130, 131, 132, 133, 134, 135, 136, 137, 138, 139, 140, 141, 142, 143, 144, 145, 146, 147, 148, 149, 150, 151, 152, 153, 154, 155, 156, 157, 158, 159, 160, 161, 162, 163, 164, 165, 166, 167, 168, 169, 170, 171, 172, 173, 174, 175, 176, 177, 178, 179, 180, 181, 182, 183, 184, 185, 186, 187, 188, 189, 190, 191, 192, 193, 194, 195, 196, 197, 198, 199, 200, 201, 202, 203, 204, 205, 206, 207, 208, 209, 210, 211, 212, 213, 214, 215, 216, 217, 218, 219, 220, 221, 222, 223, 224, 225, 226, 227, 228, 229, 230, 231, 232, 233, 234, 235, 236, 237, 238, 239, 240, 241, 242, 243, 244, 245, 246, 247, 248, 249, 250, 251, 252, 253, 254, 255, 256]),\n",
            "\tinverse = array('i', [0, 256, 255, 254, 253, 252, 251, 250, 249, 248, 247, 246, 245, 244, 243, 242, 241, 240, 239, 238, 237, 236, 235, 234, 233, 232, 231, 230, 229, 228, 227, 226, 225, 224, 223, 222, 221, 220, 219, 218, 217, 216, 215, 214, 213, 212, 211, 210, 209, 208, 207, 206, 205, 204, 203, 202, 201, 200, 199, 198, 197, 196, 195, 194, 193, 192, 191, 190, 189, 188, 187, 186, 185, 184, 183, 182, 181, 180, 179, 178, 177, 176, 175, 174, 173, 172, 171, 170, 169, 168, 167, 166, 165, 164, 163, 162, 161, 160, 159, 158, 157, 156, 155, 154, 153, 152, 151, 150, 149, 148, 147, 146, 145, 144, 143, 142, 141, 140, 139, 138, 137, 136, 135, 134, 133, 132, 131, 130, 129, 128, 127, 126, 125, 124, 123, 122, 121, 120, 119, 118, 117, 116, 115, 114, 113, 112, 111, 110, 109, 108, 107, 106, 105, 104, 103, 102, 101, 100, 99, 98, 97, 96, 95, 94, 93, 92, 91, 90, 89, 88, 87, 86, 85, 84, 83, 82, 81, 80, 79, 78, 77, 76, 75, 74, 73, 72, 71, 70, 69, 68, 67, 66, 65, 64, 63, 62, 61, 60, 59, 58, 57, 56, 55, 54, 53, 52, 51, 50, 49, 48, 47, 46, 45, 44, 43, 42, 41, 40, 39, 38, 37, 36, 35, 34, 33, 32, 31, 30, 29, 28, 27, 26, 25, 24, 23, 22, 21, 20, 19, 18, 17, 16, 15, 14, 13, 12, 11, 10, 9, 8, 7, 6, 5, 4, 3, 2, 1]),\n",
            "\tsubop = <Instance of incremental_set at addr 140119897543520:\n",
            "\tindex = 0,\n",
            "\tmembers = array('i', [0, 1, 2, 3, 4, 5, 6, 7, 8, 9, 10, 11, 12, 13, 14, 15, 16, 17, 18, 19, 20, 21, 22, 23, 24, 25, 26, 27, 28, 29, 30, 31, 32, 33, 34, 35, 36, 37, 38, 39, 40, 41, 42, 43, 44, 45, 46, 47, 48, 49, 50, 51, 52, 53, 54, 55, 56, 57, 58, 59, 60, 61, 62, 63, 64, 65, 66, 67, 68, 69, 70, 71, 72, 73, 74, 75, 76, 77, 78, 79, 80, 81, 82, 83, 84, 85, 86, 87, 88, 89, 90, 91, 92, 93, 94, 95, 96, 97, 98, 99, 100, 101, 102, 103, 104, 105, 106, 107, 108, 109, 110, 111, 112, 113, 114, 115, 116, 117, 118, 119, 120, 121, 122, 123, 124, 125, 126, 127, 128, 129, 130, 131, 132, 133, 134, 135, 136, 137, 138, 139, 140, 141, 142, 143, 144, 145, 146, 147, 148, 149, 150, 151, 152, 153, 154, 155, 156, 157, 158, 159, 160, 161, 162, 163, 164, 165, 166, 167, 168, 169, 170, 171, 172, 173, 174, 175, 176, 177, 178, 179, 180, 181, 182, 183, 184, 185, 186, 187, 188, 189, 190, 191, 192, 193, 194, 195, 196, 197, 198, 199, 200, 201, 202, 203, 204, 205, 206, 207, 208, 209, 210, 211, 212, 213, 214, 215, 216, 217, 218, 219, 220, 221, 222, 223, 224, 225, 226, 227, 228, 229, 230, 231, 232, 233, 234, 235, 236, 237, 238, 239, 240, 241, 242, 243, 244, 245, 246, 247, 248, 249, 250, 251, 252, 253, 254, 255, 256])>,\n",
            "\tisBijective: True>\n",
            "\n",
            "92.7 µs ± 25 µs per loop (mean ± std. dev. of 7 runs, 10000 loops each)\n"
          ]
        }
      ]
    },
    {
      "cell_type": "code",
      "source": [
        "N=257\n",
        "print('Multiplication (N=%d)' % N)\n",
        "\n",
        "a = randint(0,N-1)\n",
        "b = randint(0,N-1)\n",
        "\n",
        "dut = galois.GF(N)\n",
        "print('Device Under Test:', dut)\n",
        "%timeit a * b\n",
        "print()\n",
        "\n",
        "dut = multiplicative_group(additive_group(incremental_set(0,N-1)))\n",
        "print('Device Under Test:', dut)\n",
        "%timeit dut.synthesize(a,b)"
      ],
      "metadata": {
        "id": "5WEYYYn1f8VB",
        "outputId": "f0eb7f1b-e883-41bc-aa8d-6aefc83d1874",
        "colab": {
          "base_uri": "https://localhost:8080/"
        }
      },
      "execution_count": 12,
      "outputs": [
        {
          "output_type": "stream",
          "name": "stdout",
          "text": [
            "Multiplication (N=257)\n",
            "Device Under Test: <class 'galois.GF(257)'>\n",
            "57.7 ns ± 12.3 ns per loop (mean ± std. dev. of 7 runs, 10000000 loops each)\n",
            "\n",
            "Device Under Test: <Instance of multiplicative_group at addr 140119894844288:\n",
            "\tidentity = 1,\n",
            "\tmembers = array('i', [0, 1, 2, 3, 4, 5, 6, 7, 8, 9, 10, 11, 12, 13, 14, 15, 16, 17, 18, 19, 20, 21, 22, 23, 24, 25, 26, 27, 28, 29, 30, 31, 32, 33, 34, 35, 36, 37, 38, 39, 40, 41, 42, 43, 44, 45, 46, 47, 48, 49, 50, 51, 52, 53, 54, 55, 56, 57, 58, 59, 60, 61, 62, 63, 64, 65, 66, 67, 68, 69, 70, 71, 72, 73, 74, 75, 76, 77, 78, 79, 80, 81, 82, 83, 84, 85, 86, 87, 88, 89, 90, 91, 92, 93, 94, 95, 96, 97, 98, 99, 100, 101, 102, 103, 104, 105, 106, 107, 108, 109, 110, 111, 112, 113, 114, 115, 116, 117, 118, 119, 120, 121, 122, 123, 124, 125, 126, 127, 128, 129, 130, 131, 132, 133, 134, 135, 136, 137, 138, 139, 140, 141, 142, 143, 144, 145, 146, 147, 148, 149, 150, 151, 152, 153, 154, 155, 156, 157, 158, 159, 160, 161, 162, 163, 164, 165, 166, 167, 168, 169, 170, 171, 172, 173, 174, 175, 176, 177, 178, 179, 180, 181, 182, 183, 184, 185, 186, 187, 188, 189, 190, 191, 192, 193, 194, 195, 196, 197, 198, 199, 200, 201, 202, 203, 204, 205, 206, 207, 208, 209, 210, 211, 212, 213, 214, 215, 216, 217, 218, 219, 220, 221, 222, 223, 224, 225, 226, 227, 228, 229, 230, 231, 232, 233, 234, 235, 236, 237, 238, 239, 240, 241, 242, 243, 244, 245, 246, 247, 248, 249, 250, 251, 252, 253, 254, 255, 256]),\n",
            "\tinverse = [None, None, None, None, None, None, None, None, None, None, None, None, None, None, None, None, None, None, None, None, None, None, None, None, None, None, None, None, None, None, None, None, None, None, None, None, None, None, None, None, None, None, None, None, None, None, None, None, None, None, None, None, None, None, None, None, None, None, None, None, None, None, None, None, None, None, None, None, None, None, None, None, None, None, None, None, None, None, None, None, None, None, None, None, None, None, None, None, None, None, None, None, None, None, None, None, None, None, None, None, None, None, None, None, None, None, None, None, None, None, None, None, None, None, None, None, None, None, None, None, None, None, None, None, None, None, None, None, None, None, None, None, None, None, None, None, None, None, None, None, None, None, None, None, None, None, None, None, None, None, None, None, None, None, None, None, None, None, None, None, None, None, None, None, None, None, None, None, None, None, None, None, None, None, None, None, None, None, None, None, None, None, None, None, None, None, None, None, None, None, None, None, None, None, None, None, None, None, None, None, None, None, None, None, None, None, None, None, None, None, None, None, None, None, None, None, None, None, None, None, None, None, None, None, None, None, None, None, None, None, None, None, None, None, None, None, None, None, None, None, None, None, None, None, None, None, None, None, None, None, None, None, None, None, None, None, None],\n",
            "\tsubop = <Instance of additive_group at addr 140119896968448:\n",
            "\tidentity = 0,\n",
            "\tmembers = array('i', [0, 1, 2, 3, 4, 5, 6, 7, 8, 9, 10, 11, 12, 13, 14, 15, 16, 17, 18, 19, 20, 21, 22, 23, 24, 25, 26, 27, 28, 29, 30, 31, 32, 33, 34, 35, 36, 37, 38, 39, 40, 41, 42, 43, 44, 45, 46, 47, 48, 49, 50, 51, 52, 53, 54, 55, 56, 57, 58, 59, 60, 61, 62, 63, 64, 65, 66, 67, 68, 69, 70, 71, 72, 73, 74, 75, 76, 77, 78, 79, 80, 81, 82, 83, 84, 85, 86, 87, 88, 89, 90, 91, 92, 93, 94, 95, 96, 97, 98, 99, 100, 101, 102, 103, 104, 105, 106, 107, 108, 109, 110, 111, 112, 113, 114, 115, 116, 117, 118, 119, 120, 121, 122, 123, 124, 125, 126, 127, 128, 129, 130, 131, 132, 133, 134, 135, 136, 137, 138, 139, 140, 141, 142, 143, 144, 145, 146, 147, 148, 149, 150, 151, 152, 153, 154, 155, 156, 157, 158, 159, 160, 161, 162, 163, 164, 165, 166, 167, 168, 169, 170, 171, 172, 173, 174, 175, 176, 177, 178, 179, 180, 181, 182, 183, 184, 185, 186, 187, 188, 189, 190, 191, 192, 193, 194, 195, 196, 197, 198, 199, 200, 201, 202, 203, 204, 205, 206, 207, 208, 209, 210, 211, 212, 213, 214, 215, 216, 217, 218, 219, 220, 221, 222, 223, 224, 225, 226, 227, 228, 229, 230, 231, 232, 233, 234, 235, 236, 237, 238, 239, 240, 241, 242, 243, 244, 245, 246, 247, 248, 249, 250, 251, 252, 253, 254, 255, 256]),\n",
            "\tinverse = array('i', [0, 256, 255, 254, 253, 252, 251, 250, 249, 248, 247, 246, 245, 244, 243, 242, 241, 240, 239, 238, 237, 236, 235, 234, 233, 232, 231, 230, 229, 228, 227, 226, 225, 224, 223, 222, 221, 220, 219, 218, 217, 216, 215, 214, 213, 212, 211, 210, 209, 208, 207, 206, 205, 204, 203, 202, 201, 200, 199, 198, 197, 196, 195, 194, 193, 192, 191, 190, 189, 188, 187, 186, 185, 184, 183, 182, 181, 180, 179, 178, 177, 176, 175, 174, 173, 172, 171, 170, 169, 168, 167, 166, 165, 164, 163, 162, 161, 160, 159, 158, 157, 156, 155, 154, 153, 152, 151, 150, 149, 148, 147, 146, 145, 144, 143, 142, 141, 140, 139, 138, 137, 136, 135, 134, 133, 132, 131, 130, 129, 128, 127, 126, 125, 124, 123, 122, 121, 120, 119, 118, 117, 116, 115, 114, 113, 112, 111, 110, 109, 108, 107, 106, 105, 104, 103, 102, 101, 100, 99, 98, 97, 96, 95, 94, 93, 92, 91, 90, 89, 88, 87, 86, 85, 84, 83, 82, 81, 80, 79, 78, 77, 76, 75, 74, 73, 72, 71, 70, 69, 68, 67, 66, 65, 64, 63, 62, 61, 60, 59, 58, 57, 56, 55, 54, 53, 52, 51, 50, 49, 48, 47, 46, 45, 44, 43, 42, 41, 40, 39, 38, 37, 36, 35, 34, 33, 32, 31, 30, 29, 28, 27, 26, 25, 24, 23, 22, 21, 20, 19, 18, 17, 16, 15, 14, 13, 12, 11, 10, 9, 8, 7, 6, 5, 4, 3, 2, 1]),\n",
            "\tsubop = <Instance of incremental_set at addr 140119896401920:\n",
            "\tindex = 0,\n",
            "\tmembers = array('i', [0, 1, 2, 3, 4, 5, 6, 7, 8, 9, 10, 11, 12, 13, 14, 15, 16, 17, 18, 19, 20, 21, 22, 23, 24, 25, 26, 27, 28, 29, 30, 31, 32, 33, 34, 35, 36, 37, 38, 39, 40, 41, 42, 43, 44, 45, 46, 47, 48, 49, 50, 51, 52, 53, 54, 55, 56, 57, 58, 59, 60, 61, 62, 63, 64, 65, 66, 67, 68, 69, 70, 71, 72, 73, 74, 75, 76, 77, 78, 79, 80, 81, 82, 83, 84, 85, 86, 87, 88, 89, 90, 91, 92, 93, 94, 95, 96, 97, 98, 99, 100, 101, 102, 103, 104, 105, 106, 107, 108, 109, 110, 111, 112, 113, 114, 115, 116, 117, 118, 119, 120, 121, 122, 123, 124, 125, 126, 127, 128, 129, 130, 131, 132, 133, 134, 135, 136, 137, 138, 139, 140, 141, 142, 143, 144, 145, 146, 147, 148, 149, 150, 151, 152, 153, 154, 155, 156, 157, 158, 159, 160, 161, 162, 163, 164, 165, 166, 167, 168, 169, 170, 171, 172, 173, 174, 175, 176, 177, 178, 179, 180, 181, 182, 183, 184, 185, 186, 187, 188, 189, 190, 191, 192, 193, 194, 195, 196, 197, 198, 199, 200, 201, 202, 203, 204, 205, 206, 207, 208, 209, 210, 211, 212, 213, 214, 215, 216, 217, 218, 219, 220, 221, 222, 223, 224, 225, 226, 227, 228, 229, 230, 231, 232, 233, 234, 235, 236, 237, 238, 239, 240, 241, 242, 243, 244, 245, 246, 247, 248, 249, 250, 251, 252, 253, 254, 255, 256])>,\n",
            "\tisBijective: True>\n",
            ",\n",
            "\tisBijective: False>\n",
            "\n",
            "15.3 ms ± 4.25 ms per loop (mean ± std. dev. of 7 runs, 100 loops each)\n"
          ]
        }
      ]
    }
  ]
}