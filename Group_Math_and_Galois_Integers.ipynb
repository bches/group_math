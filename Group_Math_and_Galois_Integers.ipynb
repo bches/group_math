{
  "nbformat": 4,
  "nbformat_minor": 0,
  "metadata": {
    "colab": {
      "provenance": [],
      "authorship_tag": "ABX9TyOxjOxcox+2KM3J7/srjCcW",
      "include_colab_link": true
    },
    "kernelspec": {
      "name": "python3",
      "display_name": "Python 3"
    },
    "language_info": {
      "name": "python"
    }
  },
  "cells": [
    {
      "cell_type": "markdown",
      "metadata": {
        "id": "view-in-github",
        "colab_type": "text"
      },
      "source": [
        "<a href=\"https://colab.research.google.com/github/bches/group_math/blob/main/Group_Math_and_Galois_Integers.ipynb\" target=\"_parent\"><img src=\"https://colab.research.google.com/assets/colab-badge.svg\" alt=\"Open In Colab\"/></a>"
      ]
    },
    {
      "cell_type": "markdown",
      "source": [
        "# Introduction\n",
        "This notebook compares the output of the [group_math](http://www.kharasso.com/group/) project with that of the galois project for the [integer examples on the galois website](https://galois.readthedocs.io/en/v0.3.3/tutorials/intro-to-prime-fields/).\n",
        "\n",
        "\n"
      ],
      "metadata": {
        "id": "Ii9rVT0fw_Va"
      }
    },
    {
      "cell_type": "code",
      "execution_count": null,
      "metadata": {
        "colab": {
          "base_uri": "https://localhost:8080/"
        },
        "id": "mgv6Czl9w5a9",
        "outputId": "040c76be-370e-4d2b-ae72-f3eb504699ab"
      },
      "outputs": [
        {
          "output_type": "stream",
          "name": "stdout",
          "text": [
            "Looking in indexes: https://pypi.org/simple, https://us-python.pkg.dev/colab-wheels/public/simple/\n",
            "Collecting galois\n",
            "  Downloading galois-0.3.3-py3-none-any.whl (4.2 MB)\n",
            "\u001b[2K     \u001b[90m━━━━━━━━━━━━━━━━━━━━━━━━━━━━━━━━━━━━━━━━\u001b[0m \u001b[32m4.2/4.2 MB\u001b[0m \u001b[31m20.2 MB/s\u001b[0m eta \u001b[36m0:00:00\u001b[0m\n",
            "\u001b[?25hRequirement already satisfied: numba<0.57,>=0.55 in /usr/local/lib/python3.10/dist-packages (from galois) (0.56.4)\n",
            "Requirement already satisfied: typing-extensions>=4.0.0 in /usr/local/lib/python3.10/dist-packages (from galois) (4.5.0)\n",
            "Requirement already satisfied: numpy<1.24,>=1.21.0 in /usr/local/lib/python3.10/dist-packages (from galois) (1.22.4)\n",
            "Requirement already satisfied: setuptools in /usr/local/lib/python3.10/dist-packages (from numba<0.57,>=0.55->galois) (67.7.2)\n",
            "Requirement already satisfied: llvmlite<0.40,>=0.39.0dev0 in /usr/local/lib/python3.10/dist-packages (from numba<0.57,>=0.55->galois) (0.39.1)\n",
            "Installing collected packages: galois\n",
            "Successfully installed galois-0.3.3\n"
          ]
        }
      ],
      "source": [
        "!pip install galois\n",
        "import galois"
      ]
    },
    {
      "cell_type": "code",
      "source": [
        "GF7 = galois.GF(7)\n",
        "print(GF7.properties)\n",
        "print(GF7.elements)"
      ],
      "metadata": {
        "colab": {
          "base_uri": "https://localhost:8080/"
        },
        "id": "CogNryxuyzCF",
        "outputId": "bfef1d56-b739-4d4a-d630-cb247ee6c9b4"
      },
      "execution_count": null,
      "outputs": [
        {
          "output_type": "stream",
          "name": "stdout",
          "text": [
            "Galois Field:\n",
            "  name: GF(7)\n",
            "  characteristic: 7\n",
            "  degree: 1\n",
            "  order: 7\n",
            "  irreducible_poly: x + 4\n",
            "  is_primitive_poly: True\n",
            "  primitive_element: 3\n",
            "[0 1 2 3 4 5 6]\n"
          ]
        }
      ]
    },
    {
      "cell_type": "code",
      "source": [
        "from google.colab import drive\n",
        "drive.mount('/content/drive')\n",
        "%cd /content/drive/MyDrive/projects/group_math/\n",
        "\n",
        "# if its already cloned, then pull the latest:\n",
        "!git pull origin main"
      ],
      "metadata": {
        "colab": {
          "base_uri": "https://localhost:8080/"
        },
        "id": "gASTsTTAy-lj",
        "outputId": "b1151029-b3b2-41b6-f2a1-5233a7c7ab3c"
      },
      "execution_count": null,
      "outputs": [
        {
          "output_type": "stream",
          "name": "stdout",
          "text": [
            "Mounted at /content/drive\n",
            "/content/drive/MyDrive/projects/group_math\n",
            "remote: Enumerating objects: 7, done.\u001b[K\n",
            "remote: Counting objects: 100% (7/7), done.\u001b[K\n",
            "remote: Compressing objects: 100% (3/3), done.\u001b[K\n",
            "remote: Total 4 (delta 1), reused 4 (delta 1), pack-reused 0\u001b[K\n",
            "Unpacking objects: 100% (4/4), 664 bytes | 1024 bytes/s, done.\n",
            "From https://github.com/bches/group_math\n",
            " * branch            main       -> FETCH_HEAD\n",
            "   8daab62..9c1b6d0  main       -> origin/main\n",
            "Updating 8daab62..9c1b6d0\n",
            "Fast-forward\n",
            " src/groups.py | 19 \u001b[32m+++++++++++++++++\u001b[m\u001b[31m--\u001b[m\n",
            " 1 file changed, 17 insertions(+), 2 deletions(-)\n"
          ]
        }
      ]
    },
    {
      "cell_type": "code",
      "source": [
        "%cd /content/drive/MyDrive/projects/group_math/src/\n",
        "from groups import group, incremental_set, additive_group, multiplicative_group\n"
      ],
      "metadata": {
        "colab": {
          "base_uri": "https://localhost:8080/"
        },
        "id": "xmVnmtgE2bhx",
        "outputId": "1a76f5b0-be34-44c4-9f70-5366cbfb45ef"
      },
      "execution_count": null,
      "outputs": [
        {
          "output_type": "stream",
          "name": "stdout",
          "text": [
            "/content/drive/MyDrive/projects/group_math/src\n"
          ]
        }
      ]
    },
    {
      "cell_type": "markdown",
      "source": [
        "# Simple Test\n",
        "3 + 5 modulo 7"
      ],
      "metadata": {
        "id": "srV46-md2viv"
      }
    },
    {
      "cell_type": "code",
      "source": [
        "a = GF7(3)\n",
        "b = GF7(5)\n",
        "print('a+b=',a+b)\n",
        "\n",
        "add_grp = additive_group(incremental_set(0,6))\n",
        "print('add_grp=', add_grp)\n",
        "print()\n",
        "print('a+b=', add_grp.synthesize(3,5))\n"
      ],
      "metadata": {
        "colab": {
          "base_uri": "https://localhost:8080/"
        },
        "id": "SYTBmp5r21pI",
        "outputId": "5261facb-2fcb-4d63-f889-c4f78dc25b08"
      },
      "execution_count": null,
      "outputs": [
        {
          "output_type": "stream",
          "name": "stdout",
          "text": [
            "a+b= 1\n",
            "add_grp= <Instance of additive_group at addr 140328804653552:\n",
            "\tidentity = 0,\n",
            "\tmembers = array('i', [0, 1, 2, 3, 4, 5, 6]),\n",
            "\tinverse = array('i', [0, 6, 5, 4, 3, 2, 1]),\n",
            "\tsubop = <Instance of incremental_set at addr 140328804654608:\n",
            "\tindex = 0,\n",
            "\tmembers = array('i', [0, 1, 2, 3, 4, 5, 6])>,\n",
            "\tisBijective: True>\n",
            "\n",
            "\n",
            "a+b= 1\n"
          ]
        }
      ]
    },
    {
      "cell_type": "markdown",
      "source": [
        "# Integer Addition over GF7"
      ],
      "metadata": {
        "id": "wMkqU-uRIWiD"
      }
    },
    {
      "cell_type": "code",
      "source": [
        "from itertools import permutations\n",
        "\n",
        "for x, y in permutations(range(7), 2):\n",
        "  result1 = GF7(x) + GF7(y)\n",
        "  result2 = add_grp.synthesize(x,y)\n",
        "  passed = result1 == result2\n",
        "  print('%s + %s = %s = %s (%s)' % (x,y,result1,result2, passed))"
      ],
      "metadata": {
        "colab": {
          "base_uri": "https://localhost:8080/"
        },
        "id": "96HrKj9HIcGe",
        "outputId": "e27a97b2-b2f2-429a-80b8-d5ecec2187fc"
      },
      "execution_count": null,
      "outputs": [
        {
          "output_type": "stream",
          "name": "stdout",
          "text": [
            "0 + 1 = 1 = 1 (True)\n",
            "0 + 2 = 2 = 2 (True)\n",
            "0 + 3 = 3 = 3 (True)\n",
            "0 + 4 = 4 = 4 (True)\n",
            "0 + 5 = 5 = 5 (True)\n",
            "0 + 6 = 6 = 6 (True)\n",
            "1 + 0 = 1 = 1 (True)\n",
            "1 + 2 = 3 = 3 (True)\n",
            "1 + 3 = 4 = 4 (True)\n",
            "1 + 4 = 5 = 5 (True)\n",
            "1 + 5 = 6 = 6 (True)\n",
            "1 + 6 = 0 = 0 (True)\n",
            "2 + 0 = 2 = 2 (True)\n",
            "2 + 1 = 3 = 3 (True)\n",
            "2 + 3 = 5 = 5 (True)\n",
            "2 + 4 = 6 = 6 (True)\n",
            "2 + 5 = 0 = 0 (True)\n",
            "2 + 6 = 1 = 1 (True)\n",
            "3 + 0 = 3 = 3 (True)\n",
            "3 + 1 = 4 = 4 (True)\n",
            "3 + 2 = 5 = 5 (True)\n",
            "3 + 4 = 0 = 0 (True)\n",
            "3 + 5 = 1 = 1 (True)\n",
            "3 + 6 = 2 = 2 (True)\n",
            "4 + 0 = 4 = 4 (True)\n",
            "4 + 1 = 5 = 5 (True)\n",
            "4 + 2 = 6 = 6 (True)\n",
            "4 + 3 = 0 = 0 (True)\n",
            "4 + 5 = 2 = 2 (True)\n",
            "4 + 6 = 3 = 3 (True)\n",
            "5 + 0 = 5 = 5 (True)\n",
            "5 + 1 = 6 = 6 (True)\n",
            "5 + 2 = 0 = 0 (True)\n",
            "5 + 3 = 1 = 1 (True)\n",
            "5 + 4 = 2 = 2 (True)\n",
            "5 + 6 = 4 = 4 (True)\n",
            "6 + 0 = 6 = 6 (True)\n",
            "6 + 1 = 0 = 0 (True)\n",
            "6 + 2 = 1 = 1 (True)\n",
            "6 + 3 = 2 = 2 (True)\n",
            "6 + 4 = 3 = 3 (True)\n",
            "6 + 5 = 4 = 4 (True)\n"
          ]
        }
      ]
    },
    {
      "cell_type": "markdown",
      "source": [
        "# Integer Subtraction over GF7"
      ],
      "metadata": {
        "id": "nRQ4A1rXKUNc"
      }
    },
    {
      "cell_type": "code",
      "source": [
        "for x, y in permutations(range(7), 2):\n",
        "  result1 = GF7(x) - GF7(y)\n",
        "  result2 = add_grp.synthesize(x,add_grp.invert(y))\n",
        "  passed = result1 == result2\n",
        "  print('%s - %s = %s = %s (%s)' % (x,y,result1,result2, passed))"
      ],
      "metadata": {
        "colab": {
          "base_uri": "https://localhost:8080/"
        },
        "id": "udcD2ql5KYGw",
        "outputId": "a62ce1ea-cd6e-4ec0-9305-3809bf5ebd42"
      },
      "execution_count": null,
      "outputs": [
        {
          "output_type": "stream",
          "name": "stdout",
          "text": [
            "0 - 1 = 6 = 6 (True)\n",
            "0 - 2 = 5 = 5 (True)\n",
            "0 - 3 = 4 = 4 (True)\n",
            "0 - 4 = 3 = 3 (True)\n",
            "0 - 5 = 2 = 2 (True)\n",
            "0 - 6 = 1 = 1 (True)\n",
            "1 - 0 = 1 = 1 (True)\n",
            "1 - 2 = 6 = 6 (True)\n",
            "1 - 3 = 5 = 5 (True)\n",
            "1 - 4 = 4 = 4 (True)\n",
            "1 - 5 = 3 = 3 (True)\n",
            "1 - 6 = 2 = 2 (True)\n",
            "2 - 0 = 2 = 2 (True)\n",
            "2 - 1 = 1 = 1 (True)\n",
            "2 - 3 = 6 = 6 (True)\n",
            "2 - 4 = 5 = 5 (True)\n",
            "2 - 5 = 4 = 4 (True)\n",
            "2 - 6 = 3 = 3 (True)\n",
            "3 - 0 = 3 = 3 (True)\n",
            "3 - 1 = 2 = 2 (True)\n",
            "3 - 2 = 1 = 1 (True)\n",
            "3 - 4 = 6 = 6 (True)\n",
            "3 - 5 = 5 = 5 (True)\n",
            "3 - 6 = 4 = 4 (True)\n",
            "4 - 0 = 4 = 4 (True)\n",
            "4 - 1 = 3 = 3 (True)\n",
            "4 - 2 = 2 = 2 (True)\n",
            "4 - 3 = 1 = 1 (True)\n",
            "4 - 5 = 6 = 6 (True)\n",
            "4 - 6 = 5 = 5 (True)\n",
            "5 - 0 = 5 = 5 (True)\n",
            "5 - 1 = 4 = 4 (True)\n",
            "5 - 2 = 3 = 3 (True)\n",
            "5 - 3 = 2 = 2 (True)\n",
            "5 - 4 = 1 = 1 (True)\n",
            "5 - 6 = 6 = 6 (True)\n",
            "6 - 0 = 6 = 6 (True)\n",
            "6 - 1 = 5 = 5 (True)\n",
            "6 - 2 = 4 = 4 (True)\n",
            "6 - 3 = 3 = 3 (True)\n",
            "6 - 4 = 2 = 2 (True)\n",
            "6 - 5 = 1 = 1 (True)\n"
          ]
        }
      ]
    },
    {
      "cell_type": "markdown",
      "source": [
        "# Integer Multiplication over GF7"
      ],
      "metadata": {
        "id": "w4AS46uAKqfb"
      }
    },
    {
      "cell_type": "code",
      "source": [
        "mul_grp = multiplicative_group(add_grp)\n",
        "\n",
        "for x, y in permutations(range(7), 2):\n",
        "  result1 = GF7(x) * GF7(y)\n",
        "  result2 = mul_grp.synthesize(x,y)\n",
        "  passed = result1 == result2\n",
        "  print('%s * %s = %s = %s (%s)' % (x,y,result1,result2, passed))"
      ],
      "metadata": {
        "colab": {
          "base_uri": "https://localhost:8080/"
        },
        "id": "HO6U6ZT0Ky2g",
        "outputId": "f62f9f1a-7661-41b8-ccea-2f2bcd37001e"
      },
      "execution_count": null,
      "outputs": [
        {
          "output_type": "stream",
          "name": "stdout",
          "text": [
            "0 * 1 = 0 = 0 (True)\n",
            "0 * 2 = 0 = 0 (True)\n",
            "0 * 3 = 0 = 0 (True)\n",
            "0 * 4 = 0 = 0 (True)\n",
            "0 * 5 = 0 = 0 (True)\n",
            "0 * 6 = 0 = 0 (True)\n",
            "1 * 0 = 0 = 0 (True)\n",
            "1 * 2 = 2 = 2 (True)\n",
            "1 * 3 = 3 = 3 (True)\n",
            "1 * 4 = 4 = 4 (True)\n",
            "1 * 5 = 5 = 5 (True)\n",
            "1 * 6 = 6 = 6 (True)\n",
            "2 * 0 = 0 = 0 (True)\n",
            "2 * 1 = 2 = 2 (True)\n",
            "2 * 3 = 6 = 6 (True)\n",
            "2 * 4 = 1 = 1 (True)\n",
            "2 * 5 = 3 = 3 (True)\n",
            "2 * 6 = 5 = 5 (True)\n",
            "3 * 0 = 0 = 0 (True)\n",
            "3 * 1 = 3 = 3 (True)\n",
            "3 * 2 = 6 = 6 (True)\n",
            "3 * 4 = 5 = 5 (True)\n",
            "3 * 5 = 1 = 1 (True)\n",
            "3 * 6 = 4 = 4 (True)\n",
            "4 * 0 = 0 = 0 (True)\n",
            "4 * 1 = 4 = 4 (True)\n",
            "4 * 2 = 1 = 1 (True)\n",
            "4 * 3 = 5 = 5 (True)\n",
            "4 * 5 = 6 = 6 (True)\n",
            "4 * 6 = 3 = 3 (True)\n",
            "5 * 0 = 0 = 0 (True)\n",
            "5 * 1 = 5 = 5 (True)\n",
            "5 * 2 = 3 = 3 (True)\n",
            "5 * 3 = 1 = 1 (True)\n",
            "5 * 4 = 6 = 6 (True)\n",
            "5 * 6 = 2 = 2 (True)\n",
            "6 * 0 = 0 = 0 (True)\n",
            "6 * 1 = 6 = 6 (True)\n",
            "6 * 2 = 5 = 5 (True)\n",
            "6 * 3 = 4 = 4 (True)\n",
            "6 * 4 = 3 = 3 (True)\n",
            "6 * 5 = 2 = 2 (True)\n"
          ]
        }
      ]
    },
    {
      "cell_type": "markdown",
      "source": [
        "# Integer Division in GF7"
      ],
      "metadata": {
        "id": "ftAL8GbCLwz4"
      }
    },
    {
      "cell_type": "code",
      "source": [
        "for x, y in permutations(range(7), 2):\n",
        "  if y == 0:\n",
        "    continue\n",
        "  result1 = GF7(x) / GF7(y)\n",
        "  result2 = mul_grp.synthesize(x,mul_grp.invert(y))\n",
        "  passed = result1 == result2\n",
        "  print('%s / %s = %s = %s (%s)' % (x,y,result1,result2, passed))"
      ],
      "metadata": {
        "colab": {
          "base_uri": "https://localhost:8080/"
        },
        "id": "Orw1TSeoL3dZ",
        "outputId": "1ec69782-83cb-412b-dc80-9bb6c70bebf7"
      },
      "execution_count": null,
      "outputs": [
        {
          "output_type": "stream",
          "name": "stdout",
          "text": [
            "0 / 1 = 0 = 0 (True)\n",
            "0 / 2 = 0 = 0 (True)\n",
            "0 / 3 = 0 = 0 (True)\n",
            "0 / 4 = 0 = 0 (True)\n",
            "0 / 5 = 0 = 0 (True)\n",
            "0 / 6 = 0 = 0 (True)\n",
            "1 / 2 = 4 = 4 (True)\n",
            "1 / 3 = 5 = 5 (True)\n",
            "1 / 4 = 2 = 2 (True)\n",
            "1 / 5 = 3 = 3 (True)\n",
            "1 / 6 = 6 = 6 (True)\n",
            "2 / 1 = 2 = 2 (True)\n",
            "2 / 3 = 3 = 3 (True)\n",
            "2 / 4 = 4 = 4 (True)\n",
            "2 / 5 = 6 = 6 (True)\n",
            "2 / 6 = 5 = 5 (True)\n",
            "3 / 1 = 3 = 3 (True)\n",
            "3 / 2 = 5 = 5 (True)\n",
            "3 / 4 = 6 = 6 (True)\n",
            "3 / 5 = 2 = 2 (True)\n",
            "3 / 6 = 4 = 4 (True)\n",
            "4 / 1 = 4 = 4 (True)\n",
            "4 / 2 = 2 = 2 (True)\n",
            "4 / 3 = 6 = 6 (True)\n",
            "4 / 5 = 5 = 5 (True)\n",
            "4 / 6 = 3 = 3 (True)\n",
            "5 / 1 = 5 = 5 (True)\n",
            "5 / 2 = 6 = 6 (True)\n",
            "5 / 3 = 4 = 4 (True)\n",
            "5 / 4 = 3 = 3 (True)\n",
            "5 / 6 = 2 = 2 (True)\n",
            "6 / 1 = 6 = 6 (True)\n",
            "6 / 2 = 3 = 3 (True)\n",
            "6 / 3 = 2 = 2 (True)\n",
            "6 / 4 = 5 = 5 (True)\n",
            "6 / 5 = 4 = 4 (True)\n"
          ]
        }
      ]
    },
    {
      "cell_type": "markdown",
      "source": [
        "# Integer Exponentiation on GF"
      ],
      "metadata": {
        "id": "-qGoPtX2L8cB"
      }
    },
    {
      "cell_type": "code",
      "source": [
        "  for x, y in permutations(range(7), 2):\n",
        "    if x == 1 or x == 0:\n",
        "      continue\n",
        "    print('x,y:',x,y)\n",
        "    result1 = GF7(x) ** y\n",
        "    mul_grp.reset(x)\n",
        "    result2 = mul_grp(y)\n",
        "    passed = result1 == result2\n",
        "    print('%s ** %s = %s = %s (%s)' % (x,y,result1,result2, passed))"
      ],
      "metadata": {
        "colab": {
          "base_uri": "https://localhost:8080/",
          "height": 411
        },
        "id": "Dj7U_C_AMCHL",
        "outputId": "066a33d9-834f-44cd-b3e0-6207f5064530"
      },
      "execution_count": null,
      "outputs": [
        {
          "output_type": "stream",
          "name": "stdout",
          "text": [
            "x,y: 2 0\n"
          ]
        },
        {
          "output_type": "error",
          "ename": "IndexError",
          "evalue": "ignored",
          "traceback": [
            "\u001b[0;31m---------------------------------------------------------------------------\u001b[0m",
            "\u001b[0;31mIndexError\u001b[0m                                Traceback (most recent call last)",
            "\u001b[0;32m<ipython-input-11-8ae30dc5a800>\u001b[0m in \u001b[0;36m<cell line: 1>\u001b[0;34m()\u001b[0m\n\u001b[1;32m      5\u001b[0m   \u001b[0mresult1\u001b[0m \u001b[0;34m=\u001b[0m \u001b[0mGF7\u001b[0m\u001b[0;34m(\u001b[0m\u001b[0mx\u001b[0m\u001b[0;34m)\u001b[0m \u001b[0;34m**\u001b[0m \u001b[0my\u001b[0m\u001b[0;34m\u001b[0m\u001b[0;34m\u001b[0m\u001b[0m\n\u001b[1;32m      6\u001b[0m   \u001b[0mmul_grp\u001b[0m\u001b[0;34m.\u001b[0m\u001b[0mreset\u001b[0m\u001b[0;34m(\u001b[0m\u001b[0mx\u001b[0m\u001b[0;34m)\u001b[0m\u001b[0;34m\u001b[0m\u001b[0;34m\u001b[0m\u001b[0m\n\u001b[0;32m----> 7\u001b[0;31m   \u001b[0mresult2\u001b[0m \u001b[0;34m=\u001b[0m \u001b[0mmul_grp\u001b[0m\u001b[0;34m(\u001b[0m\u001b[0my\u001b[0m\u001b[0;34m)\u001b[0m\u001b[0;34m\u001b[0m\u001b[0;34m\u001b[0m\u001b[0m\n\u001b[0m\u001b[1;32m      8\u001b[0m   \u001b[0mpassed\u001b[0m \u001b[0;34m=\u001b[0m \u001b[0mresult1\u001b[0m \u001b[0;34m==\u001b[0m \u001b[0mresult2\u001b[0m\u001b[0;34m\u001b[0m\u001b[0;34m\u001b[0m\u001b[0m\n\u001b[1;32m      9\u001b[0m   \u001b[0mprint\u001b[0m\u001b[0;34m(\u001b[0m\u001b[0;34m'%s ** %s = %s = %s (%s)'\u001b[0m \u001b[0;34m%\u001b[0m \u001b[0;34m(\u001b[0m\u001b[0mx\u001b[0m\u001b[0;34m,\u001b[0m\u001b[0my\u001b[0m\u001b[0;34m,\u001b[0m\u001b[0mresult1\u001b[0m\u001b[0;34m,\u001b[0m\u001b[0mresult2\u001b[0m\u001b[0;34m,\u001b[0m \u001b[0mpassed\u001b[0m\u001b[0;34m)\u001b[0m\u001b[0;34m)\u001b[0m\u001b[0;34m\u001b[0m\u001b[0;34m\u001b[0m\u001b[0m\n",
            "\u001b[0;32m/content/drive/MyDrive/projects/group_math/src/groups.py\u001b[0m in \u001b[0;36m__call__\u001b[0;34m(self, repeat)\u001b[0m\n\u001b[1;32m    124\u001b[0m         \u001b[0;32melif\u001b[0m \u001b[0mrepeat\u001b[0m \u001b[0;34m<\u001b[0m \u001b[0mself\u001b[0m\u001b[0;34m.\u001b[0m\u001b[0midentity\u001b[0m\u001b[0;34m:\u001b[0m\u001b[0;34m\u001b[0m\u001b[0;34m\u001b[0m\u001b[0m\n\u001b[1;32m    125\u001b[0m             \u001b[0margs\u001b[0m \u001b[0;34m=\u001b[0m \u001b[0;34m[\u001b[0m\u001b[0;34m-\u001b[0m\u001b[0mself\u001b[0m\u001b[0;34m.\u001b[0m\u001b[0mgenerator\u001b[0m\u001b[0;34m]\u001b[0m \u001b[0;34m*\u001b[0m \u001b[0;34m(\u001b[0m\u001b[0;34m-\u001b[0m\u001b[0mrepeat\u001b[0m\u001b[0;34m)\u001b[0m\u001b[0;34m\u001b[0m\u001b[0;34m\u001b[0m\u001b[0m\n\u001b[0;32m--> 126\u001b[0;31m             \u001b[0mself\u001b[0m\u001b[0;34m.\u001b[0m\u001b[0mgenerator\u001b[0m \u001b[0;34m=\u001b[0m  \u001b[0mself\u001b[0m\u001b[0;34m.\u001b[0m\u001b[0msynthesize\u001b[0m\u001b[0;34m(\u001b[0m\u001b[0;34m*\u001b[0m\u001b[0margs\u001b[0m\u001b[0;34m)\u001b[0m\u001b[0;34m\u001b[0m\u001b[0;34m\u001b[0m\u001b[0m\n\u001b[0m\u001b[1;32m    127\u001b[0m             \u001b[0;32mreturn\u001b[0m \u001b[0mself\u001b[0m\u001b[0;34m.\u001b[0m\u001b[0mgenerator\u001b[0m\u001b[0;34m\u001b[0m\u001b[0;34m\u001b[0m\u001b[0m\n\u001b[1;32m    128\u001b[0m         \u001b[0;32melse\u001b[0m\u001b[0;34m:\u001b[0m\u001b[0;34m\u001b[0m\u001b[0;34m\u001b[0m\u001b[0m\n",
            "\u001b[0;32m/content/drive/MyDrive/projects/group_math/src/groups.py\u001b[0m in \u001b[0;36msynthesize\u001b[0;34m(self, *members)\u001b[0m\n\u001b[1;32m    141\u001b[0m             \u001b[0;32mreturn\u001b[0m \u001b[0mself\u001b[0m\u001b[0;34m.\u001b[0m\u001b[0msubop\u001b[0m\u001b[0;34m.\u001b[0m\u001b[0midentity\u001b[0m\u001b[0;34m\u001b[0m\u001b[0;34m\u001b[0m\u001b[0m\n\u001b[1;32m    142\u001b[0m         \u001b[0mself\u001b[0m\u001b[0;34m.\u001b[0m\u001b[0msubop\u001b[0m\u001b[0;34m.\u001b[0m\u001b[0mreset\u001b[0m\u001b[0;34m(\u001b[0m\u001b[0mself\u001b[0m\u001b[0;34m.\u001b[0m\u001b[0midentity\u001b[0m\u001b[0;34m)\u001b[0m\u001b[0;34m\u001b[0m\u001b[0;34m\u001b[0m\u001b[0m\n\u001b[0;32m--> 143\u001b[0;31m         \u001b[0;32mreturn\u001b[0m \u001b[0;34m[\u001b[0m\u001b[0mself\u001b[0m\u001b[0;34m.\u001b[0m\u001b[0msubop\u001b[0m\u001b[0;34m(\u001b[0m\u001b[0mrepeat\u001b[0m\u001b[0;34m=\u001b[0m\u001b[0mmember\u001b[0m\u001b[0;34m)\u001b[0m \u001b[0;32mfor\u001b[0m \u001b[0mmember\u001b[0m \u001b[0;32min\u001b[0m \u001b[0mmembers\u001b[0m\u001b[0;34m]\u001b[0m\u001b[0;34m[\u001b[0m\u001b[0;34m-\u001b[0m\u001b[0;36m1\u001b[0m\u001b[0;34m]\u001b[0m\u001b[0;34m\u001b[0m\u001b[0;34m\u001b[0m\u001b[0m\n\u001b[0m\u001b[1;32m    144\u001b[0m \u001b[0;34m\u001b[0m\u001b[0m\n\u001b[1;32m    145\u001b[0m     \u001b[0;32mdef\u001b[0m \u001b[0minvert\u001b[0m\u001b[0;34m(\u001b[0m\u001b[0mself\u001b[0m\u001b[0;34m,\u001b[0m \u001b[0mmember\u001b[0m\u001b[0;34m)\u001b[0m \u001b[0;34m->\u001b[0m \u001b[0mint\u001b[0m\u001b[0;34m:\u001b[0m\u001b[0;34m\u001b[0m\u001b[0;34m\u001b[0m\u001b[0m\n",
            "\u001b[0;31mIndexError\u001b[0m: list index out of range"
          ]
        }
      ]
    }
  ]
}