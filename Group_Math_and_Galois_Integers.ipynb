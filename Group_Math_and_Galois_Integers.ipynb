{
  "nbformat": 4,
  "nbformat_minor": 0,
  "metadata": {
    "colab": {
      "provenance": [],
      "include_colab_link": true
    },
    "kernelspec": {
      "name": "python3",
      "display_name": "Python 3"
    },
    "language_info": {
      "name": "python"
    }
  },
  "cells": [
    {
      "cell_type": "markdown",
      "metadata": {
        "id": "view-in-github",
        "colab_type": "text"
      },
      "source": [
        "<a href=\"https://colab.research.google.com/github/bches/group_math/blob/main/Group_Math_and_Galois_Integers.ipynb\" target=\"_parent\"><img src=\"https://colab.research.google.com/assets/colab-badge.svg\" alt=\"Open In Colab\"/></a>"
      ]
    },
    {
      "cell_type": "markdown",
      "source": [
        "# Introduction\n",
        "This notebook compares the output of the [group_math](http://www.kharasso.com/group/) project with that of the galois project for the [integer examples on the galois website](https://galois.readthedocs.io/en/v0.3.3/tutorials/intro-to-prime-fields/).\n",
        "\n",
        "\n"
      ],
      "metadata": {
        "id": "Ii9rVT0fw_Va"
      }
    },
    {
      "cell_type": "code",
      "execution_count": 1,
      "metadata": {
        "colab": {
          "base_uri": "https://localhost:8080/"
        },
        "id": "mgv6Czl9w5a9",
        "outputId": "7a9ef03b-8e0c-4af9-d0b9-93af65d230a1"
      },
      "outputs": [
        {
          "output_type": "stream",
          "name": "stdout",
          "text": [
            "Looking in indexes: https://pypi.org/simple, https://us-python.pkg.dev/colab-wheels/public/simple/\n",
            "Collecting galois\n",
            "  Downloading galois-0.3.5-py3-none-any.whl (4.2 MB)\n",
            "\u001b[2K     \u001b[90m━━━━━━━━━━━━━━━━━━━━━━━━━━━━━━━━━━━━━━━━\u001b[0m \u001b[32m4.2/4.2 MB\u001b[0m \u001b[31m42.3 MB/s\u001b[0m eta \u001b[36m0:00:00\u001b[0m\n",
            "\u001b[?25hRequirement already satisfied: numpy<1.25,>=1.21.0 in /usr/local/lib/python3.10/dist-packages (from galois) (1.22.4)\n",
            "Requirement already satisfied: numba<0.58,>=0.55 in /usr/local/lib/python3.10/dist-packages (from galois) (0.56.4)\n",
            "Requirement already satisfied: typing-extensions>=4.0.0 in /usr/local/lib/python3.10/dist-packages (from galois) (4.5.0)\n",
            "Requirement already satisfied: llvmlite<0.40,>=0.39.0dev0 in /usr/local/lib/python3.10/dist-packages (from numba<0.58,>=0.55->galois) (0.39.1)\n",
            "Requirement already satisfied: setuptools in /usr/local/lib/python3.10/dist-packages (from numba<0.58,>=0.55->galois) (67.7.2)\n",
            "Installing collected packages: galois\n",
            "Successfully installed galois-0.3.5\n"
          ]
        }
      ],
      "source": [
        "!pip install galois\n",
        "import galois"
      ]
    },
    {
      "cell_type": "code",
      "source": [
        "GF7 = galois.GF(7)\n",
        "print(GF7.properties)\n",
        "print(GF7.elements)"
      ],
      "metadata": {
        "colab": {
          "base_uri": "https://localhost:8080/"
        },
        "id": "CogNryxuyzCF",
        "outputId": "81008204-a448-4867-84ba-acda1c170729"
      },
      "execution_count": 2,
      "outputs": [
        {
          "output_type": "stream",
          "name": "stdout",
          "text": [
            "Galois Field:\n",
            "  name: GF(7)\n",
            "  characteristic: 7\n",
            "  degree: 1\n",
            "  order: 7\n",
            "  irreducible_poly: x + 4\n",
            "  is_primitive_poly: True\n",
            "  primitive_element: 3\n",
            "[0 1 2 3 4 5 6]\n"
          ]
        }
      ]
    },
    {
      "cell_type": "code",
      "source": [
        "from google.colab import drive\n",
        "drive.mount('/content/drive')\n",
        "\n",
        "# if its already cloned, then pull the latest:\n",
        "%cd /content/drive/MyDrive/projects/group_math/\n",
        "!git pull origin main\n",
        "\n",
        "# otherwise, clone it:\n",
        "#%cd /content/drive/MyDrive/projects/\n",
        "#!git clone https://github.com/bches/group_math.git\n"
      ],
      "metadata": {
        "colab": {
          "base_uri": "https://localhost:8080/"
        },
        "id": "gASTsTTAy-lj",
        "outputId": "e7d1da55-dded-4f33-d893-775ed700abed"
      },
      "execution_count": 6,
      "outputs": [
        {
          "output_type": "stream",
          "name": "stdout",
          "text": [
            "Drive already mounted at /content/drive; to attempt to forcibly remount, call drive.mount(\"/content/drive\", force_remount=True).\n",
            "/content/drive/MyDrive/projects/group_math\n",
            "From https://github.com/bches/group_math\n",
            " * branch            main       -> FETCH_HEAD\n",
            "Already up to date.\n"
          ]
        }
      ]
    },
    {
      "cell_type": "code",
      "source": [
        "%cd /content/drive/MyDrive/projects/group_math/src/\n",
        "from groups import group, incremental_set, additive_group, multiplicative_group\n"
      ],
      "metadata": {
        "colab": {
          "base_uri": "https://localhost:8080/"
        },
        "id": "xmVnmtgE2bhx",
        "outputId": "d1d17c31-b89f-4692-dede-d6d564a67052"
      },
      "execution_count": 7,
      "outputs": [
        {
          "output_type": "stream",
          "name": "stdout",
          "text": [
            "/content/drive/MyDrive/projects/group_math/src\n"
          ]
        }
      ]
    },
    {
      "cell_type": "markdown",
      "source": [
        "# Simple Test\n",
        "3 + 5 modulo 7"
      ],
      "metadata": {
        "id": "srV46-md2viv"
      }
    },
    {
      "cell_type": "code",
      "source": [
        "a = GF7(3)\n",
        "b = GF7(5)\n",
        "print('a+b=',a+b)\n",
        "\n",
        "add_grp = additive_group(incremental_set(0,6))\n",
        "print('add_grp=', add_grp)\n",
        "print()\n",
        "print('a+b=', add_grp.synthesize(3,5))\n"
      ],
      "metadata": {
        "colab": {
          "base_uri": "https://localhost:8080/"
        },
        "id": "SYTBmp5r21pI",
        "outputId": "a4559578-ab9e-4619-e449-a2d952a67d20"
      },
      "execution_count": 8,
      "outputs": [
        {
          "output_type": "stream",
          "name": "stdout",
          "text": [
            "a+b= 1\n",
            "add_grp= <Instance of additive_group at addr 139660337334112:\n",
            "\tidentity = 0,\n",
            "\tmembers = array('i', [0, 1, 2, 3, 4, 5, 6]),\n",
            "\tinverse = array('i', [0, 6, 5, 4, 3, 2, 1]),\n",
            "\tsubop = <Instance of incremental_set at addr 139660337337712:\n",
            "\tindex = 0,\n",
            "\tmembers = array('i', [0, 1, 2, 3, 4, 5, 6])>,\n",
            "\tisBijective: True>\n",
            "\n",
            "\n",
            "a+b= 1\n"
          ]
        }
      ]
    },
    {
      "cell_type": "markdown",
      "source": [
        "# Integer Addition over GF7"
      ],
      "metadata": {
        "id": "wMkqU-uRIWiD"
      }
    },
    {
      "cell_type": "code",
      "source": [
        "from itertools import permutations\n",
        "\n",
        "for x, y in permutations(range(7), 2):\n",
        "  result1 = GF7(x) + GF7(y)\n",
        "  result2 = add_grp.synthesize(x,y)\n",
        "  passed = result1 == result2\n",
        "  print('%s + %s = %s = %s (%s)' % (x,y,result1,result2, passed))"
      ],
      "metadata": {
        "colab": {
          "base_uri": "https://localhost:8080/"
        },
        "id": "96HrKj9HIcGe",
        "outputId": "09146912-1529-42db-f5c4-0319e6846634"
      },
      "execution_count": 9,
      "outputs": [
        {
          "output_type": "stream",
          "name": "stdout",
          "text": [
            "0 + 1 = 1 = 1 (True)\n",
            "0 + 2 = 2 = 2 (True)\n",
            "0 + 3 = 3 = 3 (True)\n",
            "0 + 4 = 4 = 4 (True)\n",
            "0 + 5 = 5 = 5 (True)\n",
            "0 + 6 = 6 = 6 (True)\n",
            "1 + 0 = 1 = 1 (True)\n",
            "1 + 2 = 3 = 3 (True)\n",
            "1 + 3 = 4 = 4 (True)\n",
            "1 + 4 = 5 = 5 (True)\n",
            "1 + 5 = 6 = 6 (True)\n",
            "1 + 6 = 0 = 0 (True)\n",
            "2 + 0 = 2 = 2 (True)\n",
            "2 + 1 = 3 = 3 (True)\n",
            "2 + 3 = 5 = 5 (True)\n",
            "2 + 4 = 6 = 6 (True)\n",
            "2 + 5 = 0 = 0 (True)\n",
            "2 + 6 = 1 = 1 (True)\n",
            "3 + 0 = 3 = 3 (True)\n",
            "3 + 1 = 4 = 4 (True)\n",
            "3 + 2 = 5 = 5 (True)\n",
            "3 + 4 = 0 = 0 (True)\n",
            "3 + 5 = 1 = 1 (True)\n",
            "3 + 6 = 2 = 2 (True)\n",
            "4 + 0 = 4 = 4 (True)\n",
            "4 + 1 = 5 = 5 (True)\n",
            "4 + 2 = 6 = 6 (True)\n",
            "4 + 3 = 0 = 0 (True)\n",
            "4 + 5 = 2 = 2 (True)\n",
            "4 + 6 = 3 = 3 (True)\n",
            "5 + 0 = 5 = 5 (True)\n",
            "5 + 1 = 6 = 6 (True)\n",
            "5 + 2 = 0 = 0 (True)\n",
            "5 + 3 = 1 = 1 (True)\n",
            "5 + 4 = 2 = 2 (True)\n",
            "5 + 6 = 4 = 4 (True)\n",
            "6 + 0 = 6 = 6 (True)\n",
            "6 + 1 = 0 = 0 (True)\n",
            "6 + 2 = 1 = 1 (True)\n",
            "6 + 3 = 2 = 2 (True)\n",
            "6 + 4 = 3 = 3 (True)\n",
            "6 + 5 = 4 = 4 (True)\n"
          ]
        }
      ]
    },
    {
      "cell_type": "markdown",
      "source": [
        "# Integer Subtraction over GF7"
      ],
      "metadata": {
        "id": "nRQ4A1rXKUNc"
      }
    },
    {
      "cell_type": "code",
      "source": [
        "for x, y in permutations(range(7), 2):\n",
        "  result1 = GF7(x) - GF7(y)\n",
        "  result2 = add_grp.synthesize(x,add_grp.invert(y))\n",
        "  passed = result1 == result2\n",
        "  print('%s - %s = %s = %s (%s)' % (x,y,result1,result2, passed))"
      ],
      "metadata": {
        "colab": {
          "base_uri": "https://localhost:8080/"
        },
        "id": "udcD2ql5KYGw",
        "outputId": "ab49c203-b1f1-46f4-8874-60939b430344"
      },
      "execution_count": 10,
      "outputs": [
        {
          "output_type": "stream",
          "name": "stdout",
          "text": [
            "0 - 1 = 6 = 6 (True)\n",
            "0 - 2 = 5 = 5 (True)\n",
            "0 - 3 = 4 = 4 (True)\n",
            "0 - 4 = 3 = 3 (True)\n",
            "0 - 5 = 2 = 2 (True)\n",
            "0 - 6 = 1 = 1 (True)\n",
            "1 - 0 = 1 = 1 (True)\n",
            "1 - 2 = 6 = 6 (True)\n",
            "1 - 3 = 5 = 5 (True)\n",
            "1 - 4 = 4 = 4 (True)\n",
            "1 - 5 = 3 = 3 (True)\n",
            "1 - 6 = 2 = 2 (True)\n",
            "2 - 0 = 2 = 2 (True)\n",
            "2 - 1 = 1 = 1 (True)\n",
            "2 - 3 = 6 = 6 (True)\n",
            "2 - 4 = 5 = 5 (True)\n",
            "2 - 5 = 4 = 4 (True)\n",
            "2 - 6 = 3 = 3 (True)\n",
            "3 - 0 = 3 = 3 (True)\n",
            "3 - 1 = 2 = 2 (True)\n",
            "3 - 2 = 1 = 1 (True)\n",
            "3 - 4 = 6 = 6 (True)\n",
            "3 - 5 = 5 = 5 (True)\n",
            "3 - 6 = 4 = 4 (True)\n",
            "4 - 0 = 4 = 4 (True)\n",
            "4 - 1 = 3 = 3 (True)\n",
            "4 - 2 = 2 = 2 (True)\n",
            "4 - 3 = 1 = 1 (True)\n",
            "4 - 5 = 6 = 6 (True)\n",
            "4 - 6 = 5 = 5 (True)\n",
            "5 - 0 = 5 = 5 (True)\n",
            "5 - 1 = 4 = 4 (True)\n",
            "5 - 2 = 3 = 3 (True)\n",
            "5 - 3 = 2 = 2 (True)\n",
            "5 - 4 = 1 = 1 (True)\n",
            "5 - 6 = 6 = 6 (True)\n",
            "6 - 0 = 6 = 6 (True)\n",
            "6 - 1 = 5 = 5 (True)\n",
            "6 - 2 = 4 = 4 (True)\n",
            "6 - 3 = 3 = 3 (True)\n",
            "6 - 4 = 2 = 2 (True)\n",
            "6 - 5 = 1 = 1 (True)\n"
          ]
        }
      ]
    },
    {
      "cell_type": "markdown",
      "source": [
        "# Integer Multiplication over GF7"
      ],
      "metadata": {
        "id": "w4AS46uAKqfb"
      }
    },
    {
      "cell_type": "code",
      "source": [
        "mul_grp = multiplicative_group(add_grp)\n",
        "\n",
        "for x, y in permutations(range(7), 2):\n",
        "  result1 = GF7(x) * GF7(y)\n",
        "  result2 = mul_grp.synthesize(x,y)\n",
        "  passed = result1 == result2\n",
        "  print('%s * %s = %s = %s (%s)' % (x,y,result1,result2, passed))"
      ],
      "metadata": {
        "colab": {
          "base_uri": "https://localhost:8080/"
        },
        "id": "HO6U6ZT0Ky2g",
        "outputId": "86b0a170-4b83-4a4e-8636-ef5f92d6f989"
      },
      "execution_count": 11,
      "outputs": [
        {
          "output_type": "stream",
          "name": "stdout",
          "text": [
            "0 * 1 = 0 = 0 (True)\n",
            "0 * 2 = 0 = 0 (True)\n",
            "0 * 3 = 0 = 0 (True)\n",
            "0 * 4 = 0 = 0 (True)\n",
            "0 * 5 = 0 = 0 (True)\n",
            "0 * 6 = 0 = 0 (True)\n",
            "1 * 0 = 0 = 0 (True)\n",
            "1 * 2 = 2 = 2 (True)\n",
            "1 * 3 = 3 = 3 (True)\n",
            "1 * 4 = 4 = 4 (True)\n",
            "1 * 5 = 5 = 5 (True)\n",
            "1 * 6 = 6 = 6 (True)\n",
            "2 * 0 = 0 = 0 (True)\n",
            "2 * 1 = 2 = 2 (True)\n",
            "2 * 3 = 6 = 6 (True)\n",
            "2 * 4 = 1 = 1 (True)\n",
            "2 * 5 = 3 = 3 (True)\n",
            "2 * 6 = 5 = 5 (True)\n",
            "3 * 0 = 0 = 0 (True)\n",
            "3 * 1 = 3 = 3 (True)\n",
            "3 * 2 = 6 = 6 (True)\n",
            "3 * 4 = 5 = 5 (True)\n",
            "3 * 5 = 1 = 1 (True)\n",
            "3 * 6 = 4 = 4 (True)\n",
            "4 * 0 = 0 = 0 (True)\n",
            "4 * 1 = 4 = 4 (True)\n",
            "4 * 2 = 1 = 1 (True)\n",
            "4 * 3 = 5 = 5 (True)\n",
            "4 * 5 = 6 = 6 (True)\n",
            "4 * 6 = 3 = 3 (True)\n",
            "5 * 0 = 0 = 0 (True)\n",
            "5 * 1 = 5 = 5 (True)\n",
            "5 * 2 = 3 = 3 (True)\n",
            "5 * 3 = 1 = 1 (True)\n",
            "5 * 4 = 6 = 6 (True)\n",
            "5 * 6 = 2 = 2 (True)\n",
            "6 * 0 = 0 = 0 (True)\n",
            "6 * 1 = 6 = 6 (True)\n",
            "6 * 2 = 5 = 5 (True)\n",
            "6 * 3 = 4 = 4 (True)\n",
            "6 * 4 = 3 = 3 (True)\n",
            "6 * 5 = 2 = 2 (True)\n"
          ]
        }
      ]
    },
    {
      "cell_type": "markdown",
      "source": [
        "# Integer Division in GF7"
      ],
      "metadata": {
        "id": "ftAL8GbCLwz4"
      }
    },
    {
      "cell_type": "code",
      "source": [
        "for x, y in permutations(range(7), 2):\n",
        "  if y == 0:\n",
        "    continue\n",
        "  result1 = GF7(x) / GF7(y)\n",
        "  result2 = mul_grp.synthesize(x,mul_grp.invert(y))\n",
        "  passed = result1 == result2\n",
        "  print('%s / %s = %s = %s (%s)' % (x,y,result1,result2, passed))"
      ],
      "metadata": {
        "colab": {
          "base_uri": "https://localhost:8080/"
        },
        "id": "Orw1TSeoL3dZ",
        "outputId": "533f35ea-65b1-47e4-9cd1-1ed3f39de82b"
      },
      "execution_count": 12,
      "outputs": [
        {
          "output_type": "stream",
          "name": "stdout",
          "text": [
            "0 / 1 = 0 = 0 (True)\n",
            "0 / 2 = 0 = 0 (True)\n",
            "0 / 3 = 0 = 0 (True)\n",
            "0 / 4 = 0 = 0 (True)\n",
            "0 / 5 = 0 = 0 (True)\n",
            "0 / 6 = 0 = 0 (True)\n",
            "1 / 2 = 4 = 4 (True)\n",
            "1 / 3 = 5 = 5 (True)\n",
            "1 / 4 = 2 = 2 (True)\n",
            "1 / 5 = 3 = 3 (True)\n",
            "1 / 6 = 6 = 6 (True)\n",
            "2 / 1 = 2 = 2 (True)\n",
            "2 / 3 = 3 = 3 (True)\n",
            "2 / 4 = 4 = 4 (True)\n",
            "2 / 5 = 6 = 6 (True)\n",
            "2 / 6 = 5 = 5 (True)\n",
            "3 / 1 = 3 = 3 (True)\n",
            "3 / 2 = 5 = 5 (True)\n",
            "3 / 4 = 6 = 6 (True)\n",
            "3 / 5 = 2 = 2 (True)\n",
            "3 / 6 = 4 = 4 (True)\n",
            "4 / 1 = 4 = 4 (True)\n",
            "4 / 2 = 2 = 2 (True)\n",
            "4 / 3 = 6 = 6 (True)\n",
            "4 / 5 = 5 = 5 (True)\n",
            "4 / 6 = 3 = 3 (True)\n",
            "5 / 1 = 5 = 5 (True)\n",
            "5 / 2 = 6 = 6 (True)\n",
            "5 / 3 = 4 = 4 (True)\n",
            "5 / 4 = 3 = 3 (True)\n",
            "5 / 6 = 2 = 2 (True)\n",
            "6 / 1 = 6 = 6 (True)\n",
            "6 / 2 = 3 = 3 (True)\n",
            "6 / 3 = 2 = 2 (True)\n",
            "6 / 4 = 5 = 5 (True)\n",
            "6 / 5 = 4 = 4 (True)\n"
          ]
        }
      ]
    },
    {
      "cell_type": "markdown",
      "source": [
        "# Integer Exponentiation on GF"
      ],
      "metadata": {
        "id": "-qGoPtX2L8cB"
      }
    },
    {
      "cell_type": "code",
      "source": [
        "  for x, y in permutations(range(7), 2):\n",
        "    if x == 1 or x == 0:\n",
        "      continue\n",
        "    result1 = GF7(x) ** y\n",
        "    mul_grp.reset(x)\n",
        "    result2 = mul_grp(y)\n",
        "    passed = result1 == result2\n",
        "    print('%s ** %s = %s = %s (%s)' % (x,y,result1,result2, passed))"
      ],
      "metadata": {
        "colab": {
          "base_uri": "https://localhost:8080/"
        },
        "id": "Dj7U_C_AMCHL",
        "outputId": "47114a2c-e0d1-44e4-d526-dbd7c950588f"
      },
      "execution_count": 14,
      "outputs": [
        {
          "output_type": "stream",
          "name": "stdout",
          "text": [
            "2 ** 0 = 1 = 1 (True)\n",
            "2 ** 1 = 2 = 2 (True)\n",
            "2 ** 3 = 1 = 1 (True)\n",
            "2 ** 4 = 2 = 2 (True)\n",
            "2 ** 5 = 4 = 4 (True)\n",
            "2 ** 6 = 1 = 1 (True)\n",
            "3 ** 0 = 1 = 1 (True)\n",
            "3 ** 1 = 3 = 3 (True)\n",
            "3 ** 2 = 2 = 2 (True)\n",
            "3 ** 4 = 4 = 4 (True)\n",
            "3 ** 5 = 5 = 5 (True)\n",
            "3 ** 6 = 1 = 1 (True)\n",
            "4 ** 0 = 1 = 1 (True)\n",
            "4 ** 1 = 4 = 4 (True)\n",
            "4 ** 2 = 2 = 2 (True)\n",
            "4 ** 3 = 1 = 1 (True)\n",
            "4 ** 5 = 2 = 2 (True)\n",
            "4 ** 6 = 1 = 1 (True)\n",
            "5 ** 0 = 1 = 1 (True)\n",
            "5 ** 1 = 5 = 5 (True)\n",
            "5 ** 2 = 4 = 4 (True)\n",
            "5 ** 3 = 6 = 6 (True)\n",
            "5 ** 4 = 2 = 2 (True)\n",
            "5 ** 6 = 1 = 1 (True)\n",
            "6 ** 0 = 1 = 1 (True)\n",
            "6 ** 1 = 6 = 6 (True)\n",
            "6 ** 2 = 1 = 1 (True)\n",
            "6 ** 3 = 6 = 6 (True)\n",
            "6 ** 4 = 1 = 1 (True)\n",
            "6 ** 5 = 6 = 6 (True)\n"
          ]
        }
      ]
    }
  ]
}